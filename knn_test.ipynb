{
 "cells": [
  {
   "cell_type": "markdown",
   "metadata": {},
   "source": [
    "# k-Nearest Neighbor TEST(KNN) \n"
   ]
  },
  {
   "cell_type": "code",
   "execution_count": 56,
   "metadata": {
    "collapsed": true
   },
   "outputs": [],
   "source": [
    "\n",
    "# Train and Test data load\n",
    "import pickle\n",
    "import numpy as np\n",
    "\n",
    "train_data = pickle.load(open( \"train.pkl\", \"rb\" ))\n",
    "test_data=pickle.load(open(\"test.pkl\",\"rb\"))\n",
    "\n"
   ]
  },
  {
   "cell_type": "code",
   "execution_count": 57,
   "metadata": {
    "collapsed": true
   },
   "outputs": [],
   "source": [
    "#Fixed_parameters: Please do not change the fixed parameters\n",
    "\n",
    "val_ratio  = 0.2\n",
    "\n",
    "categories = [\n",
    "        'alt.atheism',\n",
    "        'talk.religion.misc',\n",
    "        'comp.graphics',\n",
    "        'sci.space',\n",
    "    ]\n",
    "\n",
    "#student_parameters\n",
    "#You may want to change these in your experiment later.\n",
    "train_ratio= 1.0 # we split the train_data into 0.8:training\n",
    "\n",
    "\n"
   ]
  },
  {
   "cell_type": "code",
   "execution_count": 58,
   "metadata": {
    "collapsed": true
   },
   "outputs": [],
   "source": [
    "#Split Train data into Train and Validation (Ratio Train : Val = 4:1)\n",
    "train_num = int(train_data['data'].shape[0]*train_ratio*(1.0-val_ratio)) \n",
    "val_num = -1*int(train_data['data'].shape[0]*train_ratio*val_ratio)\n",
    "test_num = test_data['data'].shape[0]"
   ]
  },
  {
   "cell_type": "code",
   "execution_count": 59,
   "metadata": {
    "collapsed": true
   },
   "outputs": [],
   "source": [
    "# Please implement Classifier in the file : k_nearest_neighbor.py\n",
    "from cs536_1.models import KNearestNeighbor\n",
    "KNN_classifier = KNearestNeighbor()\n",
    "KNN_classifier.train(train_data['data'][:train_num], train_data['target'][:train_num])"
   ]
  },
  {
   "cell_type": "markdown",
   "metadata": {},
   "source": [
    "# Please implement predict"
   ]
  },
  {
   "cell_type": "code",
   "execution_count": 60,
   "metadata": {},
   "outputs": [
    {
     "name": "stdout",
     "output_type": "stream",
     "text": [
      "For K= 1 and train_ratio= 1.000000, Got 1136 / 1353 correct => VAL_accuracy: 0.839616\n",
      "For K= 3 and train_ratio= 1.000000, Got 1144 / 1353 correct => VAL_accuracy: 0.845528\n",
      "For K= 5 and train_ratio= 1.000000, Got 1155 / 1353 correct => VAL_accuracy: 0.853659\n",
      "For K= 7 and train_ratio= 1.000000, Got 1153 / 1353 correct => VAL_accuracy: 0.852180\n",
      "For K= 9 and train_ratio= 1.000000, Got 1151 / 1353 correct => VAL_accuracy: 0.850702\n",
      "For K= 11 and train_ratio= 1.000000, Got 1158 / 1353 correct => VAL_accuracy: 0.855876\n",
      "For K= 15 and train_ratio= 1.000000, Got 1164 / 1353 correct => VAL_accuracy: 0.860310\n",
      "For K= 19 and train_ratio= 1.000000, Got 1166 / 1353 correct => VAL_accuracy: 0.861789\n"
     ]
    }
   ],
   "source": [
    "#For the different K, compute the validation accuracies.\n",
    "#Please implement the predict_labels()\n",
    "k_choices = [1, 3, 5, 7, 9, 11, 15, 19]\n",
    "for k in k_choices:\n",
    "    y_test_pred = KNN_classifier.predict(test_data['data'],k)\n",
    "    num_correct = np.sum(y_test_pred == test_data['target'])\n",
    "    accuracy = float(num_correct) / (test_num)\n",
    "    print('For K= %d and train_ratio= %f, Got %d / %d correct => VAL_accuracy: %f'\n",
    "          % (k,train_ratio,num_correct,test_num, accuracy)) "
   ]
  },
  {
   "cell_type": "code",
   "execution_count": null,
   "metadata": {
    "collapsed": true
   },
   "outputs": [],
   "source": []
  },
  {
   "cell_type": "code",
   "execution_count": null,
   "metadata": {
    "collapsed": true
   },
   "outputs": [],
   "source": []
  }
 ],
 "metadata": {
  "anaconda-cloud": {},
  "kernelspec": {
   "display_name": "Python 3",
   "language": "python",
   "name": "python3"
  },
  "language_info": {
   "codemirror_mode": {
    "name": "ipython",
    "version": 3
   },
   "file_extension": ".py",
   "mimetype": "text/x-python",
   "name": "python",
   "nbconvert_exporter": "python",
   "pygments_lexer": "ipython3",
   "version": "3.6.3"
  }
 },
 "nbformat": 4,
 "nbformat_minor": 1
}
